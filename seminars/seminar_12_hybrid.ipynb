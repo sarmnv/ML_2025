{
 "cells": [
  {
   "cell_type": "code",
   "execution_count": 64,
   "id": "ede63744",
   "metadata": {},
   "outputs": [],
   "source": [
    "import datetime\n",
    "import sklearn\n",
    "import typing as tp\n",
    "import numpy as np\n",
    "import pandas as pd\n",
    "from sklearn.ensemble import RandomForestRegressor"
   ]
  },
  {
   "cell_type": "code",
   "execution_count": 65,
   "id": "3683684b",
   "metadata": {},
   "outputs": [],
   "source": [
    "X_type = tp.NewType(\"X_type\", np.ndarray)\n",
    "X_row_type = tp.NewType(\"X_row_type\", np.ndarray)\n",
    "Y_type = tp.NewType(\"Y_type\", np.array)\n",
    "TS_type = tp.NewType(\"TS_type\", pd.Series)\n",
    "Model_type = tp.TypeVar(\"Model_type\")"
   ]
  },
  {
   "cell_type": "code",
   "execution_count": 66,
   "id": "149607d8",
   "metadata": {},
   "outputs": [],
   "source": [
    "def read_timeseries(path_to_df: str = \"train.csv\") -> TS_type:\n",
    "    \"\"\"Функция для чтения данных и получения обучающей и тестовой выборок\"\"\"\n",
    "    df = pd.read_csv(path_to_df)\n",
    "    df = df[(df['store'] == 1) & (df['item'] == 1)]\n",
    "    df[\"date\"] = pd.to_datetime(df[\"date\"])\n",
    "    df = df.set_index(\"date\")\n",
    "    ts = df[\"sales\"]\n",
    "    train_ts = ts[:-365]\n",
    "    test_ts = ts[-365:]\n",
    "    return train_ts, test_ts"
   ]
  },
  {
   "cell_type": "code",
   "execution_count": 67,
   "id": "84d95927",
   "metadata": {},
   "outputs": [],
   "source": [
    "def extract_hybrid_strategy_features(\n",
    "    timeseries: TS_type,\n",
    "    model_idx: int,\n",
    "    window_size: int = 7\n",
    ") -> X_row_type:\n",
    "    \"\"\"\n",
    "    Функция для получения вектора фичей согласно гибридной схеме. На вход подаётся временной ряд\n",
    "    до момента T, функция выделяет из него фичи, необходимые модели под номером model_idx для\n",
    "    прогноза на момент времени T\n",
    "    \n",
    "    Args:\n",
    "        timeseries --- временной ряд до момента времени T (не включительно), pd.Series с датой \n",
    "                       в качестве индекса\n",
    "        model_idx --- индекс модели, то есть номер шага прогноза, \n",
    "                      для которого нужно получить признаки, нумерация с нуля\n",
    "        window_size --- количество последних значений ряда, используемых для прогноза \n",
    "                        (без учёта количества прогнозов с предыдущих этапов)\n",
    "\n",
    "    Returns:\n",
    "        Одномерный вектор фичей для модели с индексом model_idx (np.array), \n",
    "        чтобы сделать прогноз для момента времени T\n",
    "    \"\"\"\n",
    "    feature_window = window_size + model_idx\n",
    "    return timeseries[-feature_window:].values"
   ]
  },
  {
   "cell_type": "code",
   "execution_count": 68,
   "id": "f038662b",
   "metadata": {},
   "outputs": [],
   "source": [
    "def build_datasets(\n",
    "    timeseries: TS_type,\n",
    "    extract_features: tp.Callable[..., X_row_type],\n",
    "    window_size: int,\n",
    "    model_count: int\n",
    ") -> tp.List[tp.Tuple[X_type, Y_type]]:\n",
    "    \"\"\"\n",
    "    Функция для получения обучающих датасетов согласно гибридной схеме\n",
    "    \n",
    "    Args:\n",
    "        timeseries --- временной ряд\n",
    "        extract_features --- функция для генерации вектора фичей\n",
    "        window_size --- количество последних значений ряда, используемых для прогноза\n",
    "        model_count --- количество моделей, используемых для получения предскзаний \n",
    "\n",
    "    Returns:\n",
    "        Список из model_count датасетов, i-й датасет используется для обучения i-й модели \n",
    "        и представляет собой пару из двумерного массива фичей и одномерного массива таргетов\n",
    "    \"\"\"\n",
    "    datasets = []\n",
    "    \n",
    "    for model_idx in range(model_count):\n",
    "        features = []\n",
    "        labels = []\n",
    "        for k in range(window_size + model_idx, len(timeseries)):\n",
    "            features.append(extract_features(timeseries[:k], model_idx, window_size))\n",
    "            labels.append(timeseries.iloc[k])\n",
    "        features = np.array(features)\n",
    "        labels = np.array(labels)\n",
    "    \n",
    "        datasets.append((features, labels))\n",
    "    \n",
    "    assert len(datasets) == model_count\n",
    "    return datasets"
   ]
  },
  {
   "cell_type": "code",
   "execution_count": 69,
   "id": "261e986a",
   "metadata": {},
   "outputs": [],
   "source": [
    "def predict(\n",
    "    timeseries: TS_type,\n",
    "    models: tp.List[Model_type],\n",
    "    extract_features: tp.Callable[..., X_row_type] = extract_hybrid_strategy_features\n",
    ") -> TS_type:\n",
    "    \"\"\"\n",
    "    Функция для получения прогноза len(models) следующих значений временного ряда\n",
    "    \n",
    "    Args:\n",
    "        timeseries --- временной ряд, по которому необходимо сделать прогноз на следующие даты\n",
    "        models --- список обученных моделей, i-я модель используется для получения i-го прогноза\n",
    "        extract_features --- функция для генерации вектора фичей. Если вы реализуете свою функцию \n",
    "                             извлечения фичей для конечной модели, передавайте этим аргументом.\n",
    "                             Внутри функции predict функцию extract_features нужно вызывать только\n",
    "                             с аргументами timeseries и model_idx, остальные должны быть со значениями\n",
    "                             по умолчанию\n",
    "\n",
    "    Returns:\n",
    "        Прогноз len(models) следующих значений временного ряда\n",
    "    \"\"\"\n",
    "    \n",
    "    \n",
    "    preds = []\n",
    "    for model_idx, model in enumerate(models):\n",
    "        features = extract_features(timeseries, model_idx)\n",
    "        pred = model.predict(features.reshape(1, -1)) \n",
    "        \n",
    "        new_index = pd.date_range(timeseries.index[-1], periods=2)[1:]\n",
    "#         timeseries = timeseries.append(pd.Series(pred, index=new_index))\n",
    "        timeseries = pd.concat([timeseries, pd.Series(pred, index=new_index)], copy=False)\n",
    "                \n",
    "    return timeseries[-len(models):]"
   ]
  },
  {
   "cell_type": "code",
   "execution_count": 70,
   "id": "319a633f",
   "metadata": {},
   "outputs": [],
   "source": [
    "def train_models(\n",
    "    train_timeseries: TS_type,\n",
    "    model_count: int\n",
    ") -> tp.List[Model_type]:\n",
    "    \"\"\"\n",
    "    Функция для получения обученных моделей\n",
    "    \n",
    "    Args:\n",
    "        train_timeseries --- обучающий временной ряд\n",
    "        model_count --- количество моделей для обучения согласно гибридной схеме.\n",
    "                        Прогнозирование должно выполняться на model_count дней вперёд\n",
    "\n",
    "    Returns:\n",
    "        Список из len(datasets) обученных моделей\n",
    "    \"\"\"\n",
    "    models = []\n",
    "\n",
    "    # datasets = build_datasets(train_timeseries, ...)\n",
    "    # YOUR CODE HERE\n",
    "    datasets = build_datasets(train_timeseries, extract_hybrid_strategy_features, window_size=7, model_count=model_count)  \n",
    "    \n",
    "    for X_train, y_train in datasets:\n",
    "        random_forest = sklearn.ensemble.RandomForestRegressor(n_estimators=10, random_state=42)\n",
    "        random_forest.fit(X_train, y_train)\n",
    "        models.append(random_forest)\n",
    "    \n",
    "    assert len(models) == len(datasets)\n",
    "    return models"
   ]
  },
  {
   "cell_type": "code",
   "execution_count": 71,
   "id": "ffa604e3",
   "metadata": {},
   "outputs": [],
   "source": [
    "def score_models(\n",
    "    train_ts: TS_type,\n",
    "    test_ts: TS_type, \n",
    "    models: tp.List[Model_type],\n",
    "    predict: tp.Callable[[TS_type, tp.List[Model_type]], TS_type] = predict\n",
    "):\n",
    "    \"\"\"\n",
    "    Функция для оценки качества обученных моделей по метрике MSE\n",
    "    \n",
    "    Args:\n",
    "        train_ts --- обучающий временной ряд\n",
    "        test_ts --- тестовый временной ряд\n",
    "        models --- список обученных моделей\n",
    "        predict --- функция для получения прогноза временного ряда\n",
    "\n",
    "    Returns:\n",
    "        Усредненное MSE для прогноза моделей по всей тестовой выборке\n",
    "    \"\"\"\n",
    "\n",
    "    inferred_freq = pd.infer_freq(train_ts.index)\n",
    "    \n",
    "    predict_len = len(models)\n",
    "    predictions = []\n",
    "    targets = []\n",
    "\n",
    "    for i in range(len(test_ts) - predict_len + 1):\n",
    "                \n",
    "        predictions.extend(list(predict(train_ts, models)))\n",
    "        targets.extend(list(test_ts[i : i + predict_len]))\n",
    "\n",
    "        next_date = train_ts.index[-1] + pd.tseries.frequencies.to_offset(inferred_freq)\n",
    "        train_ts.loc[next_date] = test_ts[i : i + 1].values[0]\n",
    "    \n",
    "    return sklearn.metrics.mean_squared_error(targets, predictions)"
   ]
  },
  {
   "cell_type": "code",
   "execution_count": 72,
   "id": "3fc2c5c4",
   "metadata": {},
   "outputs": [],
   "source": [
    "data_train, data_test = read_timeseries()"
   ]
  },
  {
   "cell_type": "code",
   "execution_count": 73,
   "id": "9787fb0a-011b-4128-9a84-33ef1a910538",
   "metadata": {},
   "outputs": [
    {
     "data": {
      "text/plain": [
       "date\n",
       "2013-01-01    13\n",
       "2013-01-02    11\n",
       "2013-01-03    14\n",
       "2013-01-04    13\n",
       "2013-01-05    10\n",
       "Name: sales, dtype: int64"
      ]
     },
     "execution_count": 73,
     "metadata": {},
     "output_type": "execute_result"
    }
   ],
   "source": [
    "data_train.head()"
   ]
  },
  {
   "cell_type": "code",
   "execution_count": 74,
   "id": "7d174a1b-c132-472a-a90f-8f42097ff33a",
   "metadata": {},
   "outputs": [
    {
     "data": {
      "text/plain": [
       "date\n",
       "2017-01-01    19\n",
       "2017-01-02    15\n",
       "2017-01-03    10\n",
       "2017-01-04    16\n",
       "2017-01-05    14\n",
       "Name: sales, dtype: int64"
      ]
     },
     "execution_count": 74,
     "metadata": {},
     "output_type": "execute_result"
    }
   ],
   "source": [
    "data_test.head()"
   ]
  },
  {
   "cell_type": "code",
   "execution_count": 75,
   "id": "3c323901",
   "metadata": {},
   "outputs": [],
   "source": [
    "models = train_models(data_train, 4)"
   ]
  },
  {
   "cell_type": "code",
   "execution_count": 76,
   "id": "88204b07-2061-4b82-b0db-7f6e8a9a5698",
   "metadata": {},
   "outputs": [
    {
     "data": {
      "text/plain": [
       "[RandomForestRegressor(n_estimators=10, random_state=42),\n",
       " RandomForestRegressor(n_estimators=10, random_state=42),\n",
       " RandomForestRegressor(n_estimators=10, random_state=42),\n",
       " RandomForestRegressor(n_estimators=10, random_state=42)]"
      ]
     },
     "execution_count": 76,
     "metadata": {},
     "output_type": "execute_result"
    }
   ],
   "source": [
    "models"
   ]
  },
  {
   "cell_type": "code",
   "execution_count": 77,
   "id": "e333fe3f",
   "metadata": {},
   "outputs": [
    {
     "data": {
      "text/plain": [
       "34.43051795580111"
      ]
     },
     "execution_count": 77,
     "metadata": {},
     "output_type": "execute_result"
    }
   ],
   "source": [
    "score_models(data_train, data_test, models, predict)"
   ]
  },
  {
   "cell_type": "code",
   "execution_count": null,
   "id": "b22775e7-6a44-4b85-a711-0088a4a5c8ca",
   "metadata": {},
   "outputs": [],
   "source": []
  }
 ],
 "metadata": {
  "kernelspec": {
   "display_name": "Python 3 (ipykernel)",
   "language": "python",
   "name": "python3"
  },
  "language_info": {
   "codemirror_mode": {
    "name": "ipython",
    "version": 3
   },
   "file_extension": ".py",
   "mimetype": "text/x-python",
   "name": "python",
   "nbconvert_exporter": "python",
   "pygments_lexer": "ipython3",
   "version": "3.10.12"
  }
 },
 "nbformat": 4,
 "nbformat_minor": 5
}
